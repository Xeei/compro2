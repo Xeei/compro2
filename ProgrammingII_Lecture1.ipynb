{
  "cells": [
    {
      "cell_type": "markdown",
      "metadata": {
        "colab_type": "text",
        "id": "view-in-github"
      },
      "source": [
        "<a href=\"https://colab.research.google.com/github/Xeei/compro2/blob/main/ProgrammingII_Lecture1.ipynb\" target=\"_parent\"><img src=\"https://colab.research.google.com/assets/colab-badge.svg\" alt=\"Open In Colab\"/></a>"
      ]
    },
    {
      "cell_type": "markdown",
      "metadata": {
        "id": "TExDatLl28Gi"
      },
      "source": [
        "## Magic Method"
      ]
    },
    {
      "cell_type": "code",
      "execution_count": null,
      "metadata": {
        "colab": {
          "base_uri": "https://localhost:8080/"
        },
        "id": "NyHbC4OF2-mA",
        "outputId": "01d014ce-9df6-466c-a123-00e505b4e789"
      },
      "outputs": [
        {
          "name": "stdout",
          "output_type": "stream",
          "text": [
            "<class '__main__.hello'>\n",
            "['__class__', '__delattr__', '__dict__', '__dir__', '__doc__', '__eq__', '__format__', '__ge__', '__getattribute__', '__gt__', '__hash__', '__init__', '__init_subclass__', '__le__', '__lt__', '__module__', '__ne__', '__new__', '__reduce__', '__reduce_ex__', '__repr__', '__setattr__', '__sizeof__', '__str__', '__subclasshook__', '__weakref__', 'myfunc']\n"
          ]
        }
      ],
      "source": [
        "class hello:\n",
        "  def myfunc(self):\n",
        "    print(\"HELLO\")\n",
        "  pass\n",
        "\n",
        "print(hello)\n",
        "print(dir(hello))\n",
        "# hello.myfunc()"
      ]
    },
    {
      "cell_type": "code",
      "execution_count": null,
      "metadata": {
        "colab": {
          "base_uri": "https://localhost:8080/"
        },
        "id": "8co7oEtW4GBV",
        "outputId": "a1c8c682-af1f-48f8-fc1e-3c47ebe69b35"
      },
      "outputs": [
        {
          "name": "stdout",
          "output_type": "stream",
          "text": [
            "<__main__.hello object at 0x7ac763133b20>\n",
            "['__class__', '__delattr__', '__dict__', '__dir__', '__doc__', '__eq__', '__format__', '__ge__', '__getattribute__', '__gt__', '__hash__', '__init__', '__init_subclass__', '__le__', '__lt__', '__module__', '__ne__', '__new__', '__reduce__', '__reduce_ex__', '__repr__', '__setattr__', '__sizeof__', '__str__', '__subclasshook__', '__weakref__', 'myfunc']\n",
            "HELLO\n"
          ]
        }
      ],
      "source": [
        "a = hello()\n",
        "print(a)\n",
        "print(dir(a))\n",
        "a.myfunc()"
      ]
    },
    {
      "cell_type": "code",
      "execution_count": null,
      "metadata": {
        "colab": {
          "base_uri": "https://localhost:8080/"
        },
        "id": "5OpEhYSxnsh9",
        "outputId": "9c4b17f9-e5e3-48fd-e12f-aae7970cdc2c"
      },
      "outputs": [
        {
          "name": "stdout",
          "output_type": "stream",
          "text": [
            "Value: -15\n",
            "This is MagicAdder with value -15.\n",
            "Value: 275\n",
            "This is MagicAdder with value 275.\n"
          ]
        }
      ],
      "source": [
        "class MagicAdder:\n",
        "    def __init__(self, value):\n",
        "        self.value = value\n",
        "\n",
        "    def __add__(self, other):\n",
        "        if isinstance(other, MagicAdder):\n",
        "            return MagicAdder(self.value - other.value)\n",
        "        else:\n",
        "            return MagicAdder(self.value * other)\n",
        "\n",
        "    def __repr__(self):\n",
        "        return f\"This is MagicAdder with value {self.value}.\"\n",
        "\n",
        "    def __str__(self):\n",
        "        return f\"Value: {self.value}\"\n",
        "\n",
        "# Example usage\n",
        "a = MagicAdder(5)\n",
        "b = MagicAdder(20)\n",
        "\n",
        "result = a + b  # This will use the __add__ method we defined\n",
        "print(result)\n",
        "print(repr(result))\n",
        "\n",
        "c = 55\n",
        "result2 = a + c  # Also uses the __add__ method\n",
        "print(result2)\n",
        "print(repr(result2))"
      ]
    },
    {
      "cell_type": "markdown",
      "metadata": {
        "id": "mvapNy-SPBGp"
      },
      "source": [
        "## Encapsulation"
      ]
    },
    {
      "cell_type": "code",
      "execution_count": null,
      "metadata": {
        "colab": {
          "base_uri": "https://localhost:8080/"
        },
        "id": "nXyRtExfIDIh",
        "outputId": "c6034e8f-aac7-4e30-96c7-33b28d9ba457"
      },
      "outputs": [
        {
          "ename": "",
          "evalue": "",
          "output_type": "error",
          "traceback": [
            "\u001b[1;31mRunning cells with 'Python 3.13.0' requires the ipykernel package.\n",
            "\u001b[1;31mRun the following command to install 'ipykernel' into the Python environment. \n",
            "\u001b[1;31mCommand: '/opt/homebrew/bin/python3 -m pip install ipykernel -U --user --force-reinstall'"
          ]
        }
      ],
      "source": [
        "def myprint(c, n):\n",
        "    try:\n",
        "        attr_or_method = getattr(c, n)\n",
        "        print(attr_or_method)\n",
        "    except AttributeError as e:\n",
        "        print(\"***Error:\", e)\n",
        "\n",
        "class MyClassScope1:\n",
        "    def __init__(self, value):\n",
        "        self.p1 = f\"{self.__class__.__name__} Public ({value})\"\n",
        "        self._p2 = f\"{self.__class__.__name__} Protected ({value})\"\n",
        "        self.__p3 = f\"{self.__class__.__name__} Private ({value})\"\n",
        "\n",
        "class MyClassScope2(MyClassScope1):\n",
        "    def __init__(self, value):\n",
        "        super().__init__(\"[\"+value+\"]\")\n",
        "        self.p4 = f\"{self.__class__.__name__} Public ({value})\"\n",
        "        self._p5 = f\"{self.__class__.__name__} Protected ({value})\"\n",
        "        self.__p6 = f\"{self.__class__.__name__} Private ({value})\"\n",
        "\n",
        "class MyClassScope3(MyClassScope2):\n",
        "    def __init__(self, value):\n",
        "        super().__init__(\"[\"+value+\"]\")\n",
        "        self.p7 = f\"{self.__class__.__name__} Public ({value})\"\n",
        "        self._p8 = f\"{self.__class__.__name__} Protected ({value})\"\n",
        "        self.__p9 = f\"{self.__class__.__name__} Private ({value})\"\n",
        "\n",
        "\n",
        "print(\"-\" * 20)\n",
        "\n",
        "tmp = MyClassScope1(\"111\")\n",
        "myprint(tmp, \"p1\")       # Accessing public attribute\n",
        "myprint(tmp, \"_p2\")      # Accessing protected attribute using myprint function\n",
        "myprint(tmp, \"__p3\")     # Trying to access private attribute using myprint function (will fail)\n",
        "\n",
        "\n",
        "\n",
        "print(\"-\" * 20)\n",
        "\n",
        "tmp = MyClassScope2(\"222\")\n",
        "myprint(tmp, \"p1\")       # Accessing public attribute\n",
        "myprint(tmp, \"_p2\")      # Accessing protected attribute directly\n",
        "myprint(tmp, \"__p3\")     # Trying to access private attribute using myprint function (will fail)\n",
        "myprint(tmp, \"p4\")       # Accessing public attribute of subclass\n",
        "myprint(tmp, \"_p5\")      # Accessing protected attribute directly\n",
        "myprint(tmp, \"__p6\")     # Trying to access private attribute using myprint function (will fail)\n",
        "\n",
        "print(\"-\" * 20)\n",
        "\n",
        "tmp = MyClassScope3(\"333\")\n",
        "myprint(tmp, \"p1\")       # Accessing public attribute\n",
        "myprint(tmp, \"_p2\")      # Accessing protected attribute directly\n",
        "myprint(tmp, \"__p3\")     # Trying to access private attribute using myprint function (will fail)\n",
        "myprint(tmp, \"p4\")       # Accessing public attribute of subclass\n",
        "myprint(tmp, \"_p5\")      # Accessing protected attribute directly\n",
        "myprint(tmp, \"__p6\")     # Trying to access private attribute using myprint function (will fail)\n",
        "myprint(tmp, \"p7\")       # Accessing public attribute of subclass\n",
        "myprint(tmp, \"_p8\")      # Accessing protected attribute directly\n",
        "myprint(tmp, \"__p9\")     # Trying to access private attribute using myprint function (will fail)\n",
        "\n",
        "print(\"-\" * 20)\n",
        "\n"
      ]
    },
    {
      "cell_type": "code",
      "execution_count": null,
      "metadata": {
        "colab": {
          "base_uri": "https://localhost:8080/"
        },
        "id": "EUuyQcKNIScd",
        "outputId": "737f6f24-245e-4815-cf6b-ba018d8c06bc"
      },
      "outputs": [
        {
          "name": "stdout",
          "output_type": "stream",
          "text": [
            "['_Example__one', '__class__', '__delattr__', '__dict__', '__dir__', '__doc__', '__eq__', '__format__', '__ge__', '__getattribute__', '__gt__', '__hash__', '__init__', '__init_subclass__', '__le__', '__lt__', '__module__', '__ne__', '__new__', '__reduce__', '__reduce_ex__', '__repr__', '__setattr__', '__sizeof__', '__str__', '__subclasshook__', '__weakref__', '_two', 'three']\n"
          ]
        }
      ],
      "source": [
        "class Example:\n",
        "  def __init__(self):\n",
        "        self.__one = 1  #<--- name mangling\n",
        "        self._two = 2\n",
        "        self.three = 3\n",
        "\n",
        "a = Example()\n",
        "print(dir(a))"
      ]
    },
    {
      "cell_type": "markdown",
      "metadata": {
        "id": "IkJJqbiMOwSM"
      },
      "source": [
        "## Getter Setter"
      ]
    },
    {
      "cell_type": "markdown",
      "metadata": {
        "id": "OPEHclPnOMak"
      },
      "source": [
        "https://peps.python.org/pep-0000/\n",
        "https://peps.python.org/pep-0008/"
      ]
    },
    {
      "cell_type": "code",
      "execution_count": 7,
      "metadata": {},
      "outputs": [
        {
          "name": "stdout",
          "output_type": "stream",
          "text": [
            "['_Classroom__test', '_Classroom__value', '__class__', '__delattr__', '__dict__', '__dir__', '__doc__', '__eq__', '__firstlineno__', '__format__', '__ge__', '__getattribute__', '__getstate__', '__gt__', '__hash__', '__init__', '__init_subclass__', '__le__', '__lt__', '__module__', '__ne__', '__new__', '__reduce__', '__reduce_ex__', '__repr__', '__setattr__', '__sizeof__', '__static_attributes__', '__str__', '__subclasshook__', '__weakref__']\n",
            "5\n",
            "10\n"
          ]
        }
      ],
      "source": [
        "class Classroom:\n",
        "    def __init__(self):\n",
        "        self.__value = 5\n",
        "        self.__test = 10\n",
        "\n",
        "    # @property\n",
        "    # def value10(self):\n",
        "    #     return self.__value\n",
        "\n",
        "tmp = Classroom()\n",
        "print(dir(tmp))\n",
        "print(tmp._Classroom__value)\n",
        "print(tmp._Classroom__test)\n"
      ]
    },
    {
      "cell_type": "code",
      "execution_count": null,
      "metadata": {
        "colab": {
          "base_uri": "https://localhost:8080/"
        },
        "id": "7qQryBIZJQNv",
        "outputId": "beb847bd-9e3e-417a-f3b5-588fb1864aa0"
      },
      "outputs": [
        {
          "name": "stdout",
          "output_type": "stream",
          "text": [
            "{'_Example__one': 1, '_two': 2, 'three': 3}\n",
            "{'_Example__one': 1, '_two': 2, 'three': 3}\n",
            "{'_Example__one': 1, '_two': 'replace2', 'three': 'replace3'}\n",
            "1\n",
            "hello\n",
            "hello\n",
            "['_Example__one', '__class__', '__delattr__', '__dict__', '__dir__', '__doc__', '__eq__', '__format__', '__ge__', '__getattribute__', '__gt__', '__hash__', '__init__', '__init_subclass__', '__le__', '__lt__', '__module__', '__ne__', '__new__', '__reduce__', '__reduce_ex__', '__repr__', '__setattr__', '__sizeof__', '__str__', '__subclasshook__', '__weakref__', '_two', 'a', 'three']\n",
            "{'_Example__one': 'hello', '_two': 'replace2', 'three': 'replace3'}\n"
          ]
        }
      ],
      "source": [
        "class Example:\n",
        "  def __init__(self):\n",
        "        self.__one = 1  #<--- name mangling\n",
        "        self._two = 2\n",
        "        self.three = 3\n",
        "\n",
        "  @property # for getter\n",
        "  def a(self):\n",
        "    return self.__one\n",
        "\n",
        "  @a.setter # for setter\n",
        "  def a(self, value):\n",
        "    if not value.isnumeric():\n",
        "      self.__one = value\n",
        "\n",
        "\n",
        "\n",
        "a = Example()\n",
        "print(vars(a))\n",
        "print(a.__dict__)\n",
        "a.three = \"replace3\"\n",
        "a._two = \"replace2\"\n",
        "print(vars(a))\n",
        "\n",
        "print(a.a)\n",
        "a.a = \"hello\"\n",
        "print(a.a)\n",
        "print(a._Example__one)\n",
        "print(dir(a))\n",
        "print(vars(a))"
      ]
    },
    {
      "cell_type": "code",
      "execution_count": null,
      "metadata": {
        "colab": {
          "base_uri": "https://localhost:8080/"
        },
        "id": "ZU5zqQB4IFrC",
        "outputId": "89ab1261-e90a-4741-a0a3-003d2aed259c"
      },
      "outputs": [
        {
          "name": "stdout",
          "output_type": "stream",
          "text": [
            "Using dir() on class Person:\n",
            "['__class__', '__delattr__', '__dict__', '__dir__', '__doc__', '__eq__', '__format__', '__ge__', '__getattribute__', '__gt__', '__hash__', '__init__', '__init_subclass__', '__le__', '__lt__', '__module__', '__ne__', '__new__', '__reduce__', '__reduce_ex__', '__repr__', '__setattr__', '__sizeof__', '__str__', '__subclasshook__', '__weakref__', 'age', 'name']\n",
            "Using dir():\n",
            "['_Person__name', '__class__', '__delattr__', '__dict__', '__dir__', '__doc__', '__eq__', '__format__', '__ge__', '__getattribute__', '__gt__', '__hash__', '__init__', '__init_subclass__', '__le__', '__lt__', '__module__', '__ne__', '__new__', '__reduce__', '__reduce_ex__', '__repr__', '__setattr__', '__sizeof__', '__str__', '__subclasshook__', '__weakref__', '_age', 'age', 'name']\n",
            "Using vars() or __dict__:\n",
            "{'_Person__name': 'Alice', '_age': 30}\n",
            "Alice\n",
            "Bob\n",
            "30\n",
            "35\n"
          ]
        }
      ],
      "source": [
        "class Person:\n",
        "    def __init__(self, name, age):\n",
        "        self.__name = name  # Private attribute (name mangling)\n",
        "        self._age = age     # Protected attribute\n",
        "\n",
        "    # Getter for name (Private attribute)\n",
        "    @property\n",
        "    def name(self):\n",
        "        return self.__name\n",
        "\n",
        "    # Setter for name (Private attribute)\n",
        "    @name.setter\n",
        "    def name(self, value):\n",
        "        if len(value) > 0:  # Validation logic\n",
        "            self.__name = value\n",
        "        else:\n",
        "            raise ValueError(\"Name cannot be empty\")\n",
        "\n",
        "    # Getter for age (Protected attribute)\n",
        "    @property\n",
        "    def age(self):\n",
        "        return self._age\n",
        "\n",
        "    # Setter for age (Protected attribute)\n",
        "    @age.setter\n",
        "    def age(self, value):\n",
        "        if value >= 0:  # Validation logic\n",
        "            self._age = value\n",
        "        else:\n",
        "            raise ValueError(\"Age cannot be negative\")\n",
        "\n",
        "# Using `dir()` on the class itself to get all class attributes and methods\n",
        "print(\"Using dir() on class Person:\")\n",
        "print(dir(Person))\n",
        "\n",
        "# Create an instance of Person\n",
        "person = Person(\"Alice\", 30)\n",
        "\n",
        "# Method 1: Using `dir()` to list all properties and methods of the class instance\n",
        "print(\"Using dir():\")\n",
        "print(dir(person))\n",
        "\n",
        "# Method 2: Using `vars()` or `__dict__` to list instance attributes\n",
        "print(\"Using vars() or __dict__:\")\n",
        "print(vars(person))\n",
        "\n",
        "# Accessing private attribute through property\n",
        "print(person.name)  # Access like an attribute (getter for private)\n",
        "\n",
        "# Modifying private attribute through setter\n",
        "person.name = \"Bob\"\n",
        "print(person.name)\n",
        "\n",
        "# Accessing protected attribute through property\n",
        "print(person.age)  # Access like an attribute (getter for protected)\n",
        "\n",
        "# Modifying protected attribute through setter\n",
        "person.age = 35\n",
        "print(person.age)\n",
        "\n",
        "# Uncommenting the following lines will raise ValueErrors\n",
        "# person.name = \"\"  # Raises ValueError: Name cannot be empty\n",
        "# person.age = -5   # Raises ValueError: Age cannot be negative"
      ]
    },
    {
      "cell_type": "markdown",
      "metadata": {
        "id": "C1hhw7PXPJAN"
      },
      "source": [
        "## Python primitive data types"
      ]
    },
    {
      "cell_type": "code",
      "execution_count": null,
      "metadata": {
        "colab": {
          "base_uri": "https://localhost:8080/"
        },
        "id": "lZJyqoeyPIQk",
        "outputId": "df8acd3a-64aa-43c5-c73e-0c344ca390d5"
      },
      "outputs": [
        {
          "name": "stdout",
          "output_type": "stream",
          "text": [
            "Variable a: ['abc', 1, 2, [3, 3.14159]]\n",
            "Variable b: ['abc', 1, 2, [3, 3.14159]]\n",
            "Variable c: ['abc', 1, 2, [3, 3.14159]]\n",
            "----------\n",
            "Variable a: ['abc', 1, 'replace', [3, 3.14159], 'new_at_end']\n",
            "Variable b: ['abc', 1, 'replace', [3, 3.14159], 'new_at_end']\n",
            "Variable c: ['abc', 1, 'replace', [3, 3.14159], 'new_at_end']\n",
            "----------\n",
            "Variable c: ['abc', 1, 'replace', [3, 3.14159], 'new_at_end']\n",
            "Variable d: ['abc', 1, 'replace', [3, 3.14159], 'new_at_end', 'with_shallow_copy']\n",
            "Variable e: ['abc', 1, 'replace', [3, 3.14159], 'new_at_end']\n",
            "----------\n",
            "Variable d: ['abc', 1, 'replace', [3, 'This is nested'], 'new_at_end', 'with_shallow_copy']\n",
            "Variable e: ['abc', 1, 'replace', [3, 3.14159], 'new_at_end']\n"
          ]
        }
      ],
      "source": [
        "# Import the copy module to access the copy.deepcopy() function\n",
        "import copy\n",
        "\n",
        "three = [3,3.14159]\n",
        "a = [\"abc\",1,2,three]\n",
        "b = a\n",
        "c = b\n",
        "print(\"Variable a:\",a)\n",
        "print(\"Variable b:\",b)\n",
        "print(\"Variable c:\",c)\n",
        "print('-'*10)\n",
        "\n",
        "c[-2] = \"replace\"\n",
        "c.append(\"new_at_end\")\n",
        "print(\"Variable a:\",a)\n",
        "print(\"Variable b:\",b)\n",
        "print(\"Variable c:\",c)\n",
        "print('-'*10)\n",
        "\n",
        "d = c.copy() # or copy.copy(c)\n",
        "e = copy.deepcopy(c)\n",
        "d.append(\"with_shallow_copy\")\n",
        "print(\"Variable c:\",c)\n",
        "print(\"Variable d:\",d)\n",
        "print(\"Variable e:\",e)\n",
        "print('-'*10)\n",
        "\n",
        "three[-1] = \"This is nested\"\n",
        "print(\"Variable d:\",d)\n",
        "print(\"Variable e:\",e)\n"
      ]
    }
  ],
  "metadata": {
    "colab": {
      "include_colab_link": true,
      "provenance": []
    },
    "kernelspec": {
      "display_name": "Python 3",
      "name": "python3"
    },
    "language_info": {
      "codemirror_mode": {
        "name": "ipython",
        "version": 3
      },
      "file_extension": ".py",
      "mimetype": "text/x-python",
      "name": "python",
      "nbconvert_exporter": "python",
      "pygments_lexer": "ipython3",
      "version": "3.13.0"
    }
  },
  "nbformat": 4,
  "nbformat_minor": 0
}
